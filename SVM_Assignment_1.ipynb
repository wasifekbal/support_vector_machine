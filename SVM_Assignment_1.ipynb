{
 "cells": [
  {
   "cell_type": "code",
   "execution_count": 1,
   "metadata": {
    "colab": {},
    "colab_type": "code",
    "id": "xxO9tyeJW4uh"
   },
   "outputs": [],
   "source": [
    "from sklearn import datasets\n",
    "import pandas as pd"
   ]
  },
  {
   "cell_type": "code",
   "execution_count": 2,
   "metadata": {
    "colab": {},
    "colab_type": "code",
    "id": "mjcU_PeeW8eU"
   },
   "outputs": [],
   "source": [
    "X, y =  datasets.make_blobs(n_samples=50, n_features=2, centers=2, cluster_std=1.05, random_state=40)"
   ]
  },
  {
   "cell_type": "code",
   "execution_count": 3,
   "metadata": {
    "colab": {},
    "colab_type": "code",
    "id": "YFUgOrbIW-eF"
   },
   "outputs": [],
   "source": [
    "import numpy as np\n",
    "import matplotlib.pyplot as plt\n",
    "import seaborn as sns\n"
   ]
  },
  {
   "cell_type": "code",
   "execution_count": 4,
   "metadata": {
    "colab": {},
    "colab_type": "code",
    "id": "WyUdIxRDX-pH"
   },
   "outputs": [],
   "source": [
    "x=np.linspace(-10,10,100)"
   ]
  },
  {
   "cell_type": "code",
   "execution_count": 5,
   "metadata": {
    "colab": {},
    "colab_type": "code",
    "id": "J9MZCZj-YDgH"
   },
   "outputs": [],
   "source": [
    "y1=-5*x+1"
   ]
  },
  {
   "cell_type": "code",
   "execution_count": 6,
   "metadata": {
    "colab": {},
    "colab_type": "code",
    "id": "nGM1xxeMYy9n"
   },
   "outputs": [],
   "source": [
    "y2=-4*x+1\n",
    "#y3=-4*x+5.71220717"
   ]
  },
  {
   "cell_type": "code",
   "execution_count": 7,
   "metadata": {
    "colab": {
     "base_uri": "https://localhost:8080/",
     "height": 283
    },
    "colab_type": "code",
    "id": "nZogsr9CXCra",
    "outputId": "3172cac2-e9e9-4a08-eb29-9c14fe5b848c"
   },
   "outputs": [
    {
     "data": {
      "text/plain": [
       "<matplotlib.axes._subplots.AxesSubplot at 0x1aaca6d6248>"
      ]
     },
     "execution_count": 7,
     "metadata": {},
     "output_type": "execute_result"
    },
    {
     "data": {
      "image/png": "[encoded data removed]",
      "text/plain": [
       "<Figure size 432x288 with 1 Axes>"
      ]
     },
     "metadata": {
      "needs_background": "light"
     },
     "output_type": "display_data"
    }
   ],
   "source": [
    "plt.plot(x,y1)\n",
    "plt.plot(x,y2)\n",
    "#plt.plot(x,y3)\n",
    "sns.scatterplot(X.T[0],X.T[1],hue=y)"
   ]
  },
  {
   "cell_type": "markdown",
   "metadata": {
    "colab_type": "text",
    "id": "U2pT8YqeZGPf"
   },
   "source": [
    "Equation of the orange line:\n",
    "\n",
    "y=-4x+1\n",
    "\n",
    "Equation of the blue line:\n",
    "\n",
    "y=-5x+1\n",
    "\n",
    "You have to find out which line will act as a better classifier according to the SVM alsorithm and why?"
   ]
  },
  {
   "cell_type": "code",
   "execution_count": 8,
   "metadata": {
    "colab": {},
    "colab_type": "code",
    "id": "u3KywixYZcYl"
   },
   "outputs": [
    {
     "data": {
      "text/plain": [
       "array([[  7.12731332,  -4.4394424 ],\n",
       "       [  6.68873898,  -2.44840134],\n",
       "       [ -1.1004791 ,  -7.78436803],\n",
       "       [  3.99337867,  -4.90451269],\n",
       "       [ -1.8171622 ,  -9.22909875],\n",
       "       [ -2.05521901, -10.23141199],\n",
       "       [  4.20397723,  -3.61164749],\n",
       "       [ -0.21804625,  -9.21962706],\n",
       "       [  5.19327641,  -6.38845134],\n",
       "       [ -1.83682056,  -8.21952131],\n",
       "       [  7.54287406,  -5.35284052],\n",
       "       [  4.88954545,  -3.38947816],\n",
       "       [ -1.76558632,  -9.34943001],\n",
       "       [  5.22597752,  -5.5503347 ],\n",
       "       [  6.64886376,  -4.46203664],\n",
       "       [  8.09408178,  -4.8068287 ],\n",
       "       [  6.32916529,  -5.32177094],\n",
       "       [  5.80670214,  -5.14475233],\n",
       "       [  5.67381136,  -3.33963413],\n",
       "       [  7.20870152,  -6.04176429],\n",
       "       [ -3.25014567,  -8.67304842],\n",
       "       [ -1.22856371,  -7.96317275],\n",
       "       [ -3.29446134,  -7.45269997],\n",
       "       [ -1.81294631,  -7.55640734],\n",
       "       [ -1.53809058,  -8.77828137],\n",
       "       [ -3.78288052,  -9.38303174],\n",
       "       [ -2.73473836,  -9.34777956],\n",
       "       [  0.56085542,  -8.37942864],\n",
       "       [ -0.74123127,  -7.87270877],\n",
       "       [ -1.78948268,  -8.62182811],\n",
       "       [  6.50753753,  -3.62561777],\n",
       "       [  4.60302933,  -4.27563422],\n",
       "       [ -1.26561532,  -8.61262708],\n",
       "       [ -0.72123914,  -8.45607028],\n",
       "       [  3.83024448,  -4.07271978],\n",
       "       [ -3.34179681,  -9.47382989],\n",
       "       [  6.05297048,  -6.08234237],\n",
       "       [ -2.91411681,  -9.03305688],\n",
       "       [  3.86649969,  -4.04019832],\n",
       "       [  6.44492377,  -4.43550613],\n",
       "       [ -1.81467949, -10.05599013],\n",
       "       [ -1.76772086,  -9.42358002],\n",
       "       [  2.74565323,  -4.27040575],\n",
       "       [  5.23730283,  -4.11095128],\n",
       "       [  6.34072331,  -4.34259999],\n",
       "       [ -2.30635421,  -8.37456353],\n",
       "       [ -3.09442079,  -9.2409609 ],\n",
       "       [  6.59620916,  -4.32893984],\n",
       "       [  7.24901124,  -3.58913263],\n",
       "       [ -2.03285195,  -8.16158771]])"
      ]
     },
     "execution_count": 8,
     "metadata": {},
     "output_type": "execute_result"
    }
   ],
   "source": [
    "X"
   ]
  },
  {
   "cell_type": "code",
   "execution_count": 9,
   "metadata": {
    "colab": {},
    "colab_type": "code",
    "id": "p6w81d-ZjxBO"
   },
   "outputs": [],
   "source": [
    "y = np.array([1 if i==1 else -1 for i in y])"
   ]
  },
  {
   "cell_type": "code",
   "execution_count": 10,
   "metadata": {
    "colab": {
     "base_uri": "https://localhost:8080/",
     "height": 71
    },
    "colab_type": "code",
    "id": "TzD74CjcqR_b",
    "outputId": "ab92683b-fd31-411c-95e3-606eeb258a47"
   },
   "outputs": [
    {
     "data": {
      "text/plain": [
       "array([ 1,  1, -1,  1, -1, -1,  1, -1,  1, -1,  1,  1, -1,  1,  1,  1,  1,\n",
       "        1,  1,  1, -1, -1, -1, -1, -1, -1, -1, -1, -1, -1,  1,  1, -1, -1,\n",
       "        1, -1,  1, -1,  1,  1, -1, -1,  1,  1,  1, -1, -1,  1,  1, -1])"
      ]
     },
     "execution_count": 10,
     "metadata": {},
     "output_type": "execute_result"
    }
   ],
   "source": [
    "y"
   ]
  },
  {
   "cell_type": "markdown",
   "metadata": {},
   "source": [
    "## For line y = -5x+1"
   ]
  },
  {
   "cell_type": "markdown",
   "metadata": {},
   "source": [
    "- y = -5x + 1\n",
    "- 5x + y -1 =0\n",
    "- Therefore, w = 5,1 and b = -1"
   ]
  },
  {
   "cell_type": "code",
   "execution_count": 11,
   "metadata": {},
   "outputs": [
    {
     "name": "stdout",
     "output_type": "stream",
     "text": [
      "[30.19712418 29.99529354 14.28676352 14.06238065 19.31490977 21.50750706\n",
      " 16.40823865 11.30985829 18.57793069 18.40362411 31.36152977 20.05824907\n",
      " 19.17736163 19.57955292 27.78228216 34.6635802  25.32405553 22.88875839\n",
      " 24.02942265 29.00174329 25.92377676 15.10599128 24.92500668 17.62113891\n",
      " 17.46873425 29.29743436 24.02147138  6.57515153 12.5788651  18.56924153\n",
      " 27.91206988 17.73951241 15.94070368 13.062266   14.07850262 27.18281392\n",
      " 23.18251004 24.60364095 14.29230012 26.78911272 20.1293876  19.26218433\n",
      "  8.4578604  21.07556286 26.36101657 20.9063346  25.71306484 27.65210596\n",
      " 31.65592359 19.32584748]\n"
     ]
    }
   ],
   "source": [
    "w = np.array([5,1])\n",
    "b = -1\n",
    "eq1 = y*(np.dot(X,w)+b)  # Constraint equation....\n",
    "print(eq1) "
   ]
  },
  {
   "cell_type": "code",
   "execution_count": 12,
   "metadata": {},
   "outputs": [
    {
     "data": {
      "text/plain": [
       "True"
      ]
     },
     "execution_count": 12,
     "metadata": {},
     "output_type": "execute_result"
    }
   ],
   "source": [
    "np.all(eq1)>=1"
   ]
  },
  {
   "cell_type": "markdown",
   "metadata": {},
   "source": [
    "It clearly satisfying the constraint equation i.e \n",
    "For all $(\\vec{x}_i, y_i) \\in X$, $y_i(\\vec{w}^{T}\\vec{x}_i + b) \\ge 1$"
   ]
  },
  {
   "cell_type": "markdown",
   "metadata": {},
   "source": [
    "Geometric margin is $\\rho = 2/\\vert\\vec{w}\\vert$"
   ]
  },
  {
   "cell_type": "code",
   "execution_count": 13,
   "metadata": {},
   "outputs": [
    {
     "data": {
      "text/plain": [
       "0.3922322702763681"
      ]
     },
     "execution_count": 13,
     "metadata": {},
     "output_type": "execute_result"
    }
   ],
   "source": [
    "d1 = 2/np.sqrt(np.sum(w**2)) # Geometric margin distance\n",
    "d1"
   ]
  },
  {
   "cell_type": "markdown",
   "metadata": {},
   "source": [
    "## For line y = -4x+1"
   ]
  },
  {
   "cell_type": "markdown",
   "metadata": {
    "colab": {},
    "colab_type": "code",
    "id": "jdBswtaSjywE"
   },
   "source": [
    "\n",
    "- y = -4x + 1\n",
    "- 4x + y -1 = 0\n",
    "- Therefore, w = 4,1 and b = -1\n"
   ]
  },
  {
   "cell_type": "code",
   "execution_count": 14,
   "metadata": {},
   "outputs": [
    {
     "name": "stdout",
     "output_type": "stream",
     "text": [
      "[23.06981086 23.30655456 13.18628443 10.06900198 17.49774757 19.45228804\n",
      " 12.20426142 11.09181204 13.38465429 16.56680355 23.81865571 15.16870362\n",
      " 17.41177531 14.3535754  21.1334184  26.56949842 18.99489024 17.08205624\n",
      " 18.3556113  21.79304177 22.67363109 13.87742757 21.63054534 15.80819259\n",
      " 15.93064368 25.51455384 21.28673302  7.13600695 11.83763383 16.77975884\n",
      " 21.40453235 13.13648308 14.67508836 12.34102686 10.24825814 23.84101711\n",
      " 17.12953956 21.68952414 10.42580043 20.34418895 18.3147081  17.49446347\n",
      "  5.71220717 15.83826003 20.02029326 18.59998039 22.61864406 21.0558968\n",
      " 24.40691235 17.29299552]\n"
     ]
    }
   ],
   "source": [
    "w = np.array([4,1])\n",
    "b = -1\n",
    "eq2 = y*(np.dot(X,w)+b) # Constraint equation....\n",
    "print(eq2) "
   ]
  },
  {
   "cell_type": "code",
   "execution_count": 15,
   "metadata": {},
   "outputs": [
    {
     "data": {
      "text/plain": [
       "True"
      ]
     },
     "execution_count": 15,
     "metadata": {},
     "output_type": "execute_result"
    }
   ],
   "source": [
    "np.all(eq2)>=1"
   ]
  },
  {
   "cell_type": "markdown",
   "metadata": {},
   "source": [
    "It also satisfying the constraint equation i.e \n",
    "For all $(\\vec{x}_i, y_i) \\in X$, $y_i(\\vec{w}^{T}\\vec{x}_i + b) \\ge 1$"
   ]
  },
  {
   "cell_type": "code",
   "execution_count": 16,
   "metadata": {},
   "outputs": [
    {
     "data": {
      "text/plain": [
       "0.48507125007266594"
      ]
     },
     "execution_count": 16,
     "metadata": {},
     "output_type": "execute_result"
    }
   ],
   "source": [
    "d2 = 2/np.sqrt(np.sum(w**2)) # Geometric margin distance\n",
    "d2"
   ]
  },
  {
   "cell_type": "code",
   "execution_count": 17,
   "metadata": {},
   "outputs": [
    {
     "name": "stdout",
     "output_type": "stream",
     "text": [
      "0.3922322702763681\n",
      "0.48507125007266594\n"
     ]
    }
   ],
   "source": [
    "print(d1)\n",
    "print(d2)"
   ]
  },
  {
   "cell_type": "markdown",
   "metadata": {},
   "source": [
    "We can see d2 is greater than d1. Therefore the second line i.e y=-4x+1 is the better than the first line."
   ]
  }
 ],
 "metadata": {
  "colab": {
   "name": "SVM-Assignment-1.ipynb",
   "provenance": []
  },
  "kernelspec": {
   "display_name": "Python 3",
   "language": "python",
   "name": "python3"
  },
  "language_info": {
   "codemirror_mode": {
    "name": "ipython",
    "version": 3
   },
   "file_extension": ".py",
   "mimetype": "text/x-python",
   "name": "python",
   "nbconvert_exporter": "python",
   "pygments_lexer": "ipython3",
   "version": "3.7.4"
  }
 },
 "nbformat": 4,
 "nbformat_minor": 1
}
